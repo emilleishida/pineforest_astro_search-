{
 "cells": [
  {
   "cell_type": "code",
   "execution_count": 1,
   "id": "65e36f5a-aff1-41a4-8889-401b845a5f0a",
   "metadata": {},
   "outputs": [],
   "source": [
    "import coniferest as cf\n",
    "from coniferest.session.callback import (\n",
    "    TerminateAfter, viewer_decision_callback)\n",
    "from coniferest.session import Session\n",
    "from coniferest.aadforest import AADForest\n",
    "from coniferest.pineforest import PineForest\n",
    "from coniferest.label import Label\n",
    "\n",
    "import numpy as np\n",
    "import pandas as pd\n",
    "import time"
   ]
  },
  {
   "cell_type": "code",
   "execution_count": 3,
   "id": "c7ba60e6-3478-411d-9d21-3f82cf2559f3",
   "metadata": {},
   "outputs": [
    {
     "name": "stdout",
     "output_type": "stream",
     "text": [
      "Check https://ztf.snad.space/view/683205100016505 for details\n",
      "Is 683205100016505 anomaly? [y/N]:"
     ]
    },
    {
     "name": "stdin",
     "output_type": "stream",
     "text": [
      "  N\n"
     ]
    },
    {
     "name": "stdout",
     "output_type": "stream",
     "text": [
      "Check https://ztf.snad.space/view/683211400012356 for details\n",
      "Is 683211400012356 anomaly? [y/N]:"
     ]
    },
    {
     "name": "stdin",
     "output_type": "stream",
     "text": [
      "  y\n"
     ]
    },
    {
     "name": "stdout",
     "output_type": "stream",
     "text": [
      "Check https://ztf.snad.space/view/683215100009351 for details\n",
      "Is 683215100009351 anomaly? [y/N]:"
     ]
    },
    {
     "name": "stdin",
     "output_type": "stream",
     "text": [
      "  N\n"
     ]
    },
    {
     "name": "stdout",
     "output_type": "stream",
     "text": [
      "Session takes 0h. 0m.\n"
     ]
    }
   ],
   "source": [
    "oid_filename = '/media/snad/data/features/dr3/oid_683.dat'\n",
    "feature_filename = '/media/snad/data/features/dr3/feature_683.dat'\n",
    "\n",
    "oid     = np.array(np.memmap(oid_filename, mode='c', dtype=np.uint64))\n",
    "feature = np.array(np.memmap(feature_filename, mode='c', dtype=np.float32).reshape(oid.shape[0], -1))\n",
    "\n",
    "\n",
    "model = PineForest(\n",
    "    # Number of trees to use for predictions\n",
    "    n_trees=256,\n",
    "    # Number of new tree to grow for each decision\n",
    "    n_spare_trees=768,\n",
    "    # Fix random seed for reproducibility\n",
    "    random_seed=42,\n",
    ")\n",
    "\n",
    "\n",
    "s = Session(data=feature,\n",
    "    metadata=oid,\n",
    "    model=model,\n",
    "    decision_callback=viewer_decision_callback,\n",
    "    on_decision_callbacks=[\n",
    "        TerminateAfter(3),\n",
    "    ],\n",
    ")\n",
    "\n",
    "\n",
    "t = time.monotonic()\n",
    "s.run()\n",
    "t = (time.monotonic() - t) / 60\n",
    "print(f'Session takes {(t / 60):.0f}h. {t:.0f}m.')"
   ]
  },
  {
   "cell_type": "code",
   "execution_count": null,
   "id": "726dfb68-8d2c-47e7-9753-1fed2191f481",
   "metadata": {},
   "outputs": [],
   "source": [
    "# Save answers to csv\n",
    "decisions_filename = \"decisions.csv\"\n",
    "\n",
    "with open(decisions_filename, \"w\", newline=\"\") as f:\n",
    "    writer = csv.writer(f)\n",
    "    writer.writerow([\"Object\", \"Decision\"])\n",
    "    for idx, label in s.known_labels.items():\n",
    "        writer.writerow([oid[idx], label.name]) "
   ]
  }
 ],
 "metadata": {
  "kernelspec": {
   "display_name": "Python 3",
   "language": "python",
   "name": "python3"
  },
  "language_info": {
   "codemirror_mode": {
    "name": "ipython",
    "version": 3
   },
   "file_extension": ".py",
   "mimetype": "text/x-python",
   "name": "python",
   "nbconvert_exporter": "python",
   "pygments_lexer": "ipython3",
   "version": "3.7.1"
  }
 },
 "nbformat": 4,
 "nbformat_minor": 5
}
